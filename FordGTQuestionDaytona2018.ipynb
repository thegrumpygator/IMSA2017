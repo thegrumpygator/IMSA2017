{
 "cells": [
  {
   "cell_type": "code",
   "execution_count": 26,
   "metadata": {},
   "outputs": [],
   "source": [
    "import pandas as pd\n",
    "import numpy as np\n",
    "import matplotlib.pyplot as plt\n",
    "import seaborn as sns\n",
    "\n",
    "%matplotlib inline"
   ]
  },
  {
   "cell_type": "markdown",
   "metadata": {},
   "source": [
    "Question: Did the Ford GT cars or drivers exhibit a performance delta from the Roar (Test) to the 24 Race?\n",
    "\n",
    "Assumption 1: Assume the Roar qualifying session would be the \"true\" performance of the car/team at the test session since the results of this session were used to select pit stalls for the 24 Hr race.\n",
    "\n",
    "Assumption 2: Assume the team ran flat out during the 24hr race due to the prestige of winning this event. IE: No reason to sandbag at this event."
   ]
  },
  {
   "cell_type": "code",
   "execution_count": 27,
   "metadata": {},
   "outputs": [],
   "source": [
    "# Setup paths to the pertinent data files\n",
    "\n",
    "# Roar Before the 24 Qualifying Data\n",
    "strRoarQ = 'C:\\\\Users\\\\gator\\\\Documents\\\\GitHub\\\\IMSA2017\\\\LapData\\\\2018\\\\IWSC ROAR Qualifying.csv'\n",
    "\n",
    "# 24 Hrs of Daytona Qualifying and Race Data\n",
    "strQ =     'C:\\\\Users\\\\gator\\\\Documents\\\\GitHub\\\\IMSA2017\\\\LapData\\\\2018\\\\IWSC Daytona Qualifying.csv'\n",
    "strR =     'C:\\\\Users\\\\gator\\\\Documents\\\\GitHub\\\\IMSA2017\\\\LapData\\\\2018\\\\IWSC Daytona Race.csv'\n",
    "\n",
    "# Read the data\n",
    "dfRQ = pd.read_csv(strRoarQ)\n",
    "\n",
    "dfQ = pd.read_csv(strQ)\n",
    "dfR = pd.read_csv(strR)"
   ]
  },
  {
   "cell_type": "code",
   "execution_count": 28,
   "metadata": {},
   "outputs": [],
   "source": [
    "#Function to fix the time (string)\n",
    "def fixTime(df):\n",
    "    '''This function takes the dataframe as an argument and \n",
    "    converts the string Lap Time column to be a datetime\n",
    "    and then converts the datetime column to be a float.\n",
    "    The function then returns the dataframe with those two\n",
    "    columns appended to the right'''\n",
    "    \n",
    "    # TODO: Check to make sure that the 'Lap Time' column\n",
    "    #       exists.\n",
    "    # TODO: Check to make sure that the 'Lap Time' column\n",
    "    #       is the right format\n",
    "    \n",
    "    df = df.assign(dtLapTime = pd.to_datetime('0:0:' + df['Lap Time'] + '0',\n",
    "                                             exact = False, errors = 'ignore',\n",
    "                                             format = \"%H:%M:%S.%f\").apply(lambda x: x.time()))\n",
    "    df = df.assign(fLapTime = df.dtLapTime.apply(lambda x: ((x.hour * 60 + x.minute) * 60 + x.second) * 1000000 + x.microsecond) / 1000000)\n",
    "    return df"
   ]
  },
  {
   "cell_type": "code",
   "execution_count": 29,
   "metadata": {},
   "outputs": [],
   "source": [
    "dfRQ = fixTime(dfRQ)\n",
    "dfQ  = fixTime(dfQ)\n",
    "dfR  = fixTime(dfR)"
   ]
  },
  {
   "cell_type": "code",
   "execution_count": 30,
   "metadata": {},
   "outputs": [],
   "source": [
    "def getCarData(df, car_num, max_time):\n",
    "    # make sure car exists\n",
    "    # make a default max time val\n",
    "    return df[(df['Car'] == car_num) & (df['Flag'] == 'Green') & (df['fLapTime'] < max_time)]"
   ]
  },
  {
   "cell_type": "code",
   "execution_count": 31,
   "metadata": {},
   "outputs": [],
   "source": [
    "narrow_columns = ['Car','Class', 'Lap', 'Flag', 'Lap Time','fLapTime']\n",
    "\n",
    "dfRQ_Narrow= dfRQ[narrow_columns]\n",
    "dfQ_Narrow = dfQ[narrow_columns]\n",
    "dfR_Narrow = dfR[narrow_columns]\n",
    "\n",
    "# dfRQ_Narrow : Roar Qually\n",
    "dfRQ66 = getCarData(dfRQ_Narrow, 66, 500)\n",
    "dfRQ67 = getCarData(dfRQ_Narrow, 67, 500)\n",
    "dfRQ68 = getCarData(dfRQ_Narrow, 68, 500)\n",
    "dfRQ69 = getCarData(dfRQ_Narrow, 69, 500)\n",
    "\n",
    "# dfQ_Narrow : Race Qually\n",
    "dfQ_66 = getCarData(dfQ_Narrow, 66, 500)\n",
    "dfQ_67 = getCarData(dfQ_Narrow, 67, 500)\n",
    "dfQ_68 = getCarData(dfQ_Narrow, 68, 500)\n",
    "dfQ_69 = getCarData(dfQ_Narrow, 69, 500)\n",
    "\n",
    "# dfR_Narrow : Race\n",
    "dfR_66 = getCarData(dfR_Narrow, 66, 500)\n",
    "dfR_67 = getCarData(dfR_Narrow, 67, 500)\n",
    "dfR_68 = getCarData(dfR_Narrow, 68, 500)\n",
    "dfR_69 = getCarData(dfR_Narrow, 69, 500)"
   ]
  },
  {
   "cell_type": "code",
   "execution_count": null,
   "metadata": {},
   "outputs": [],
   "source": []
  },
  {
   "cell_type": "code",
   "execution_count": 32,
   "metadata": {},
   "outputs": [
    {
     "data": {
      "text/html": [
       "<div>\n",
       "<style scoped>\n",
       "    .dataframe tbody tr th:only-of-type {\n",
       "        vertical-align: middle;\n",
       "    }\n",
       "\n",
       "    .dataframe tbody tr th {\n",
       "        vertical-align: top;\n",
       "    }\n",
       "\n",
       "    .dataframe thead th {\n",
       "        text-align: right;\n",
       "    }\n",
       "</style>\n",
       "<table border=\"1\" class=\"dataframe\">\n",
       "  <thead>\n",
       "    <tr style=\"text-align: right;\">\n",
       "      <th></th>\n",
       "      <th>Car</th>\n",
       "      <th>Class</th>\n",
       "      <th>Lap</th>\n",
       "      <th>Flag</th>\n",
       "      <th>Lap Time</th>\n",
       "      <th>fLapTime</th>\n",
       "    </tr>\n",
       "  </thead>\n",
       "  <tbody>\n",
       "    <tr>\n",
       "      <th>177</th>\n",
       "      <td>66</td>\n",
       "      <td>GTLM</td>\n",
       "      <td>2</td>\n",
       "      <td>Green</td>\n",
       "      <td>1:48.838</td>\n",
       "      <td>108.838</td>\n",
       "    </tr>\n",
       "    <tr>\n",
       "      <th>185</th>\n",
       "      <td>66</td>\n",
       "      <td>GTLM</td>\n",
       "      <td>3</td>\n",
       "      <td>Green</td>\n",
       "      <td>1:43.986</td>\n",
       "      <td>103.986</td>\n",
       "    </tr>\n",
       "    <tr>\n",
       "      <th>194</th>\n",
       "      <td>66</td>\n",
       "      <td>GTLM</td>\n",
       "      <td>4</td>\n",
       "      <td>Green</td>\n",
       "      <td>1:42.986</td>\n",
       "      <td>102.986</td>\n",
       "    </tr>\n",
       "    <tr>\n",
       "      <th>203</th>\n",
       "      <td>66</td>\n",
       "      <td>GTLM</td>\n",
       "      <td>5</td>\n",
       "      <td>Green</td>\n",
       "      <td>1:42.798</td>\n",
       "      <td>102.798</td>\n",
       "    </tr>\n",
       "    <tr>\n",
       "      <th>211</th>\n",
       "      <td>66</td>\n",
       "      <td>GTLM</td>\n",
       "      <td>6</td>\n",
       "      <td>Green</td>\n",
       "      <td>1:43.184</td>\n",
       "      <td>103.184</td>\n",
       "    </tr>\n",
       "  </tbody>\n",
       "</table>\n",
       "</div>"
      ],
      "text/plain": [
       "     Car Class  Lap   Flag  Lap Time  fLapTime\n",
       "177   66  GTLM    2  Green  1:48.838   108.838\n",
       "185   66  GTLM    3  Green  1:43.986   103.986\n",
       "194   66  GTLM    4  Green  1:42.986   102.986\n",
       "203   66  GTLM    5  Green  1:42.798   102.798\n",
       "211   66  GTLM    6  Green  1:43.184   103.184"
      ]
     },
     "execution_count": 32,
     "metadata": {},
     "output_type": "execute_result"
    }
   ],
   "source": [
    "dfQ_66"
   ]
  },
  {
   "cell_type": "code",
   "execution_count": 33,
   "metadata": {
    "collapsed": false,
    "inputHidden": false,
    "outputHidden": false
   },
   "outputs": [
    {
     "data": {
      "text/plain": [
       "<matplotlib.axes._subplots.AxesSubplot at 0x1e043ff4240>"
      ]
     },
     "execution_count": 33,
     "metadata": {},
     "output_type": "execute_result"
    },
    {
     "data": {
      "image/png": "[encoded data removed]",
      "text/plain": [
       "<matplotlib.figure.Figure at 0x1e0449e1710>"
      ]
     },
     "metadata": {},
     "output_type": "display_data"
    }
   ],
   "source": [
    "sns.distplot(dfR_66.fLapTime, bins = 20)"
   ]
  },
  {
   "cell_type": "code",
   "execution_count": 34,
   "metadata": {},
   "outputs": [
    {
     "data": {
      "text/plain": [
       "<matplotlib.axes._subplots.AxesSubplot at 0x1e0497ce278>"
      ]
     },
     "execution_count": 34,
     "metadata": {},
     "output_type": "execute_result"
    },
    {
     "data": {
      "image/png": "[encoded data removed]",
      "text/plain": [
       "<matplotlib.figure.Figure at 0x1e0447b0048>"
      ]
     },
     "metadata": {},
     "output_type": "display_data"
    }
   ],
   "source": [
    "sns.distplot(dfR['fLapTime'], bins = 20)\n"
   ]
  },
  {
   "cell_type": "code",
   "execution_count": null,
   "metadata": {},
   "outputs": [],
   "source": []
  }
 ],
 "metadata": {
  "kernel_info": {
   "name": "python3"
  },
  "kernelspec": {
   "display_name": "Python [default]",
   "language": "python",
   "name": "python3"
  },
  "language_info": {
   "codemirror_mode": {
    "name": "ipython",
    "version": 3
   },
   "file_extension": ".py",
   "mimetype": "text/x-python",
   "name": "python",
   "nbconvert_exporter": "python",
   "pygments_lexer": "ipython3",
   "version": "3.6.3"
  },
  "nteract": {
   "version": "0.7.1"
  }
 },
 "nbformat": 4,
 "nbformat_minor": 2
}
