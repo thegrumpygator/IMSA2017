{
 "cells": [
  {
   "cell_type": "code",
   "execution_count": 1,
   "metadata": {},
   "outputs": [],
   "source": [
    "import pandas as pd\n",
    "import numpy as np\n",
    "import matplotlib.pyplot as plt\n",
    "import seaborn as sns\n",
    "\n",
    "%matplotlib inline"
   ]
  },
  {
   "cell_type": "markdown",
   "metadata": {},
   "source": [
    "Question: Did the Ford GT cars or drivers exhibit a performance delta from the Roar (Test) to the 24 Race?\n",
    "\n",
    "Assumption 1: Assume the Roar qualifying session would be the \"true\" performance of the car/team at the test session since the results of this session were used to select pit stalls for the 24 Hr race.\n",
    "\n",
    "Assumption 2: Assume the team ran flat out during the 24hr race due to the prestige of winning this event. IE: No reason to sandbag at this event."
   ]
  },
  {
   "cell_type": "code",
   "execution_count": 2,
   "metadata": {},
   "outputs": [],
   "source": [
    "# Setup paths to the pertinent data files\n",
    "\n",
    "# Roar Before the 24 Qualifying Data\n",
    "strRoarQ = 'C:\\\\Users\\\\gator\\\\Documents\\\\GitHub\\\\IMSA2017\\\\LapData\\\\2018\\\\IWSC ROAR Qualifying.csv'\n",
    "\n",
    "# 24 Hrs of Daytona Qualifying and Race Data\n",
    "strQ =     'C:\\\\Users\\\\gator\\\\Documents\\\\GitHub\\\\IMSA2017\\\\LapData\\\\2018\\\\IWSC Daytona Qualifying.csv'\n",
    "strR =     'C:\\\\Users\\\\gator\\\\Documents\\\\GitHub\\\\IMSA2017\\\\LapData\\\\2018\\\\IWSC Daytona Race.csv'\n",
    "\n",
    "# Read the data\n",
    "dfRQ = pd.read_csv(strRoarQ)\n",
    "\n",
    "dfQ = pd.read_csv(strQ)\n",
    "dfR = pd.read_csv(strR)"
   ]
  },
  {
   "cell_type": "code",
   "execution_count": 3,
   "metadata": {},
   "outputs": [],
   "source": [
    "#Function to fix the time (string)\n",
    "def fixTime(df):\n",
    "    '''This function takes the dataframe as an argument and \n",
    "    converts the string Lap Time column to be a datetime\n",
    "    and then converts the datetime column to be a float.\n",
    "    The function then returns the dataframe with those two\n",
    "    columns appended to the right'''\n",
    "    \n",
    "    # TODO: Check to make sure that the 'Lap Time' column\n",
    "    #       exists.\n",
    "    # TODO: Check to make sure that the 'Lap Time' column\n",
    "    #       is the right format\n",
    "    \n",
    "    df = df.assign(dtLapTime = pd.to_datetime('0:0:' + df['Lap Time'] + '0',\n",
    "                                             exact = False, errors = 'ignore',\n",
    "                                             format = \"%H:%M:%S.%f\").apply(lambda x: x.time()))\n",
    "    df = df.assign(fLapTime = df.dtLapTime.apply(lambda x: ((x.hour * 60 + x.minute) * 60 + x.second) * 1000000 + x.microsecond) / 1000000)\n",
    "    return df"
   ]
  },
  {
   "cell_type": "code",
   "execution_count": 4,
   "metadata": {},
   "outputs": [],
   "source": [
    "dfRQ = fixTime(dfRQ)\n",
    "dfQ  = fixTime(dfQ)\n",
    "dfR  = fixTime(dfR)"
   ]
  },
  {
   "cell_type": "code",
   "execution_count": 15,
   "metadata": {},
   "outputs": [],
   "source": [
    "def getCarData(df, car_num, max_time):\n",
    "    # make sure car exists\n",
    "    # make a default max time val\n",
    "    return df[(dfR_Narrow['Car'] == car_num) & (df['Flag'] == 'Green') & (df['fLapTime'] < max_time)]"
   ]
  },
  {
   "cell_type": "code",
   "execution_count": 19,
   "metadata": {},
   "outputs": [
    {
     "name": "stderr",
     "output_type": "stream",
     "text": [
      "C:\\Users\\gator\\Anaconda3\\lib\\site-packages\\ipykernel\\__main__.py:4: UserWarning: Boolean Series key will be reindexed to match DataFrame index.\n"
     ]
    }
   ],
   "source": [
    "narrow_columns = ['Car','Class', 'Lap', 'Flag', 'Lap Time','fLapTime']\n",
    "\n",
    "dfRQ_Narrow= dfRQ[narrow_columns]\n",
    "dfQ_Narrow = dfQ[narrow_columns]\n",
    "dfR_Narrow = dfR[narrow_columns]\n",
    "\n",
    "dfRQ66 = getCarData(dfRQ_Narrow, 66, 500)\n",
    "dfRQ67 = getCarData(dfRQ_Narrow, 67, 500)\n",
    "dfRQ68 = getCarData(dfRQ_Narrow, 68, 500)\n",
    "dfRQ69 = getCarData(dfRQ_Narrow, 69, 500)\n",
    "\n",
    "dfQ_66 = getCarData(dfQ_Narrow, 66, 500)\n",
    "dfQ_67 = getCarData(dfQ_Narrow, 67, 500)\n",
    "dfQ_68 = getCarData(dfQ_Narrow, 68, 500)\n",
    "dfQ_69 = getCarData(dfQ_Narrow, 69, 500)\n",
    "\n",
    "dfR_66 = getCarData(dfR_Narrow, 66, 500)\n",
    "dfR_67 = getCarData(dfR_Narrow, 67, 500)\n",
    "dfR_68 = getCarData(dfR_Narrow, 68, 500)\n",
    "dfR_69 = getCarData(dfR_Narrow, 69, 500)"
   ]
  },
  {
   "cell_type": "code",
   "execution_count": 25,
   "metadata": {},
   "outputs": [
    {
     "data": {
      "text/html": [
       "<div>\n",
       "<style scoped>\n",
       "    .dataframe tbody tr th:only-of-type {\n",
       "        vertical-align: middle;\n",
       "    }\n",
       "\n",
       "    .dataframe tbody tr th {\n",
       "        vertical-align: top;\n",
       "    }\n",
       "\n",
       "    .dataframe thead th {\n",
       "        text-align: right;\n",
       "    }\n",
       "</style>\n",
       "<table border=\"1\" class=\"dataframe\">\n",
       "  <thead>\n",
       "    <tr style=\"text-align: right;\">\n",
       "      <th></th>\n",
       "      <th>Car</th>\n",
       "      <th>Class</th>\n",
       "      <th>Lap</th>\n",
       "      <th>Flag</th>\n",
       "      <th>Lap Time</th>\n",
       "      <th>fLapTime</th>\n",
       "    </tr>\n",
       "  </thead>\n",
       "  <tbody>\n",
       "    <tr>\n",
       "      <th>20</th>\n",
       "      <td>82</td>\n",
       "      <td>GTD</td>\n",
       "      <td>2</td>\n",
       "      <td>Green</td>\n",
       "      <td>1:50.690</td>\n",
       "      <td>110.690</td>\n",
       "    </tr>\n",
       "    <tr>\n",
       "      <th>69</th>\n",
       "      <td>75</td>\n",
       "      <td>GTD</td>\n",
       "      <td>4</td>\n",
       "      <td>Green</td>\n",
       "      <td>1:51.064</td>\n",
       "      <td>111.064</td>\n",
       "    </tr>\n",
       "    <tr>\n",
       "      <th>118</th>\n",
       "      <td>63</td>\n",
       "      <td>GTD</td>\n",
       "      <td>7</td>\n",
       "      <td>Green</td>\n",
       "      <td>1:47.345</td>\n",
       "      <td>107.345</td>\n",
       "    </tr>\n",
       "    <tr>\n",
       "      <th>216</th>\n",
       "      <td>24</td>\n",
       "      <td>GTLM</td>\n",
       "      <td>8</td>\n",
       "      <td>Green</td>\n",
       "      <td>1:44.904</td>\n",
       "      <td>104.904</td>\n",
       "    </tr>\n",
       "    <tr>\n",
       "      <th>265</th>\n",
       "      <td>32</td>\n",
       "      <td>P</td>\n",
       "      <td>3</td>\n",
       "      <td>Green</td>\n",
       "      <td>1:41.014</td>\n",
       "      <td>101.014</td>\n",
       "    </tr>\n",
       "    <tr>\n",
       "      <th>314</th>\n",
       "      <td>55</td>\n",
       "      <td>P</td>\n",
       "      <td>6</td>\n",
       "      <td>Green</td>\n",
       "      <td>1:36.960</td>\n",
       "      <td>96.960</td>\n",
       "    </tr>\n",
       "  </tbody>\n",
       "</table>\n",
       "</div>"
      ],
      "text/plain": [
       "     Car Class  Lap   Flag  Lap Time  fLapTime\n",
       "20    82   GTD    2  Green  1:50.690   110.690\n",
       "69    75   GTD    4  Green  1:51.064   111.064\n",
       "118   63   GTD    7  Green  1:47.345   107.345\n",
       "216   24  GTLM    8  Green  1:44.904   104.904\n",
       "265   32     P    3  Green  1:41.014   101.014\n",
       "314   55     P    6  Green  1:36.960    96.960"
      ]
     },
     "execution_count": 25,
     "metadata": {},
     "output_type": "execute_result"
    }
   ],
   "source": [
    "dfQ_66"
   ]
  },
  {
   "cell_type": "code",
   "execution_count": 12,
   "metadata": {
    "collapsed": false,
    "inputHidden": false,
    "outputHidden": false
   },
   "outputs": [
    {
     "data": {
      "text/plain": [
       "<matplotlib.axes._subplots.AxesSubplot at 0x1e0442455c0>"
      ]
     },
     "execution_count": 12,
     "metadata": {},
     "output_type": "execute_result"
    },
    {
     "data": {
      "image/png": "[encoded data removed]",
      "text/plain": [
       "<matplotlib.figure.Figure at 0x1e044245e80>"
      ]
     },
     "metadata": {},
     "output_type": "display_data"
    }
   ],
   "source": [
    "sns.distplot(dfR_66.fLapTime, bins = 20)"
   ]
  },
  {
   "cell_type": "code",
   "execution_count": null,
   "metadata": {},
   "outputs": [],
   "source": [
    "sns.distplot(dfR['fLapTime'], bins = 20)\n"
   ]
  }
 ],
 "metadata": {
  "kernel_info": {
   "name": "python3"
  },
  "kernelspec": {
   "display_name": "Python [default]",
   "language": "python",
   "name": "python3"
  },
  "language_info": {
   "codemirror_mode": {
    "name": "ipython",
    "version": 3
   },
   "file_extension": ".py",
   "mimetype": "text/x-python",
   "name": "python",
   "nbconvert_exporter": "python",
   "pygments_lexer": "ipython3",
   "version": "3.6.3"
  },
  "nteract": {
   "version": "0.7.1"
  }
 },
 "nbformat": 4,
 "nbformat_minor": 2
}
