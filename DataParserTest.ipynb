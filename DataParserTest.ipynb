{
 "cells": [
  {
   "cell_type": "markdown",
   "metadata": {},
   "source": [
    "## Data Parsing Test"
   ]
  },
  {
   "cell_type": "code",
   "execution_count": 1,
   "metadata": {
    "collapsed": true
   },
   "outputs": [],
   "source": [
    "import pandas as pd\n",
    "import numpy as np"
   ]
  },
  {
   "cell_type": "markdown",
   "metadata": {},
   "source": [
    "### Three types of time values in the text file"
   ]
  },
  {
   "cell_type": "code",
   "execution_count": 2,
   "metadata": {
    "collapsed": true
   },
   "outputs": [],
   "source": [
    "strTime0 = '36.299' # no hours, no minutes, 36.299 seconds\n",
    "strTime1 = '0:36.299' # no hours, zero minutes, 36.299 seconds\n",
    "strTime2 = '1:05:33.264' # 1 hour, 5 minutes, 33.264 seconds (fullest string)"
   ]
  },
  {
   "cell_type": "markdown",
   "metadata": {},
   "source": [
    "### Example with Seconds only"
   ]
  },
  {
   "cell_type": "code",
   "execution_count": 3,
   "metadata": {},
   "outputs": [
    {
     "name": "stdout",
     "output_type": "stream",
     "text": [
      "strTime0:     36.299\n",
      "Timestamp (with prepend M):  2017-12-23 00:36:17 \tWRONG!!\n",
      "to_datetime unit=s:          1970-01-01 00:00:36.299000\n",
      "to_datetime coerce:          NaT\n",
      "to_datetime ignore:          36.299\n"
     ]
    }
   ],
   "source": [
    "#pd.to_datetime(strTime1)\n",
    "print(\"strTime0:    \", strTime0)\n",
    "print(\"Timestamp (with prepend M): \", pd.Timestamp('0:' + strTime0), \"\\tWRONG!!\")\n",
    "print(\"to_datetime unit=s:         \", pd.to_datetime(strTime0, unit='s')) # --> works correct\n",
    "print(\"to_datetime coerce:         \", pd.to_datetime(strTime0, errors='coerce'))\n",
    "print(\"to_datetime ignore:         \", pd.to_datetime(strTime0, errors='ignore'))\n",
    "#print(\"to_datetime unit=s\", pd.to_datetime(strTime0, exact = False)) # --> error"
   ]
  },
  {
   "cell_type": "markdown",
   "metadata": {},
   "source": [
    "### Example with Minutes and Seconds"
   ]
  },
  {
   "cell_type": "code",
   "execution_count": 4,
   "metadata": {},
   "outputs": [
    {
     "name": "stdout",
     "output_type": "stream",
     "text": [
      "strTime1:   0:36.299\n",
      "Timestamp:              2017-12-23 00:36:17\n",
      "to_datetime:            2017-12-23 00:36:17\n",
      "formatted to_datetime:  1900-01-01 00:00:36.299000\n"
     ]
    }
   ],
   "source": [
    "print(\"strTime1:  \", strTime1)\n",
    "\n",
    "# Timestamp with default settings gets the time wrong and uses today's date\n",
    "print(\"Timestamp:             \", pd.Timestamp(strTime1))\n",
    "\n",
    "# to_datetime with default settings gets the time wrong with today's date\n",
    "print(\"to_datetime:           \", pd.to_datetime(strTime1))\n",
    "\n",
    "# to_datetime with improved input string and correct format gets the time right with default date\n",
    "print(\"formatted to_datetime: \", pd.to_datetime('0:' + strTime1, format='%H:%M:%S.%f'))"
   ]
  },
  {
   "cell_type": "markdown",
   "metadata": {},
   "source": [
    "### Example with Hours, Minutes, and Seconds"
   ]
  },
  {
   "cell_type": "code",
   "execution_count": 5,
   "metadata": {
    "scrolled": true
   },
   "outputs": [
    {
     "name": "stdout",
     "output_type": "stream",
     "text": [
      "strTime2:    1:05:33.264\n",
      "Timestamp:                        2017-12-23 01:05:33.264000\n",
      "to_datetime:                      2017-12-23 01:05:33.264000\n",
      "formatted to_datetime:            1900-01-01 01:05:33.264000\n",
      "formatted to_datetime (inexact):  1900-01-01 01:05:33.264000\n",
      "formatted to_datetime (inexact):  1900-01-01 01:05:33.264000\n",
      "formatted to_datetime (inexact):  1900-01-01 01:05:33.264000\n",
      "\n",
      "00:00:36.299000\n",
      "00:00:36.299000\n"
     ]
    }
   ],
   "source": [
    "print(\"strTime2:   \", strTime2)\n",
    "\n",
    "# default settings gets the time right and uses today's date\n",
    "print(\"Timestamp:                       \", pd.Timestamp(strTime2))\n",
    "\n",
    "# default settings gets the time right and uses today's date\n",
    "print(\"to_datetime:                     \", pd.to_datetime(strTime2))\n",
    "\n",
    "# specified format gets the time right and uses beginning of time\n",
    "print(\"formatted to_datetime:           \", pd.to_datetime(strTime2, format='%H:%M:%S.%f'))\n",
    "\n",
    "print(\"formatted to_datetime (inexact): \", pd.to_datetime('0:0:' + strTime2, exact = False, format='%H:%M:%S.%f'))\n",
    "print(\"formatted to_datetime (inexact): \", pd.to_datetime('0:' + strTime2, exact = False, format='%H:%M:%S.%f'))\n",
    "print(\"formatted to_datetime (inexact): \", pd.to_datetime(strTime2, exact = False, format='%H:%M:%S.%f'))\n",
    "\n",
    "print()\n",
    "\n",
    "print(pd.to_datetime('0:0:' + strTime0, exact = False, format='%H:%M:%S.%f').time())\n",
    "print(pd.to_datetime('0:0:' + strTime1, exact = False, format='%H:%M:%S.%f').time())\n",
    "#print(pd.to_datetime('0:0:' + \"\" + '0'      , exact = False, errors='coerce', format='%H:%M:%S.%f').time())"
   ]
  },
  {
   "cell_type": "markdown",
   "metadata": {},
   "source": [
    "### Within a Column"
   ]
  },
  {
   "cell_type": "code",
   "execution_count": 6,
   "metadata": {},
   "outputs": [
    {
     "name": "stdout",
     "output_type": "stream",
     "text": [
      "Here is our frame with a single time column\n",
      "          Time\n",
      "0       36.299\n",
      "1     0:36.299\n",
      "2  1:05:33.264\n",
      "\n",
      "Here it is with the parsed time\n",
      "          Time                 TParsed\n",
      "0       36.299 1900-01-01 00:00:36.299\n",
      "1     0:36.299 1900-01-01 00:00:36.299\n",
      "2  1:05:33.264 1900-01-01 01:05:33.264\n"
     ]
    }
   ],
   "source": [
    "# construct simple data frame for testing\n",
    "dfTest = pd.DataFrame(columns=[\"Time\"], data = [[strTime0], [strTime1], [strTime2]])\n",
    "#dfTest['Time'] = pd.column([]) \n",
    "dfTest\n",
    "\n",
    "#\n",
    "print(\"Here is our frame with a single time column\")\n",
    "print(dfTest)\n",
    "print()\n",
    "\n",
    "# add a column to the frame with the parsed time\n",
    "dfTest['TParsed'] = pd.to_datetime('0:0:' + dfTest['Time'],exact=False, format = \"%H:%M:%S.%f\")\n",
    "\n",
    "print(\"Here it is with the parsed time\")\n",
    "print(dfTest)"
   ]
  },
  {
   "cell_type": "code",
   "execution_count": 7,
   "metadata": {
    "scrolled": true
   },
   "outputs": [
    {
     "ename": "FileNotFoundError",
     "evalue": "File b'C:/Users/FullerBL/Documents/DataTestProject/testcsv2.csv' does not exist",
     "output_type": "error",
     "traceback": [
      "\u001b[1;31m---------------------------------------------------------------------------\u001b[0m",
      "\u001b[1;31mFileNotFoundError\u001b[0m                         Traceback (most recent call last)",
      "\u001b[1;32m<ipython-input-7-02225f9d1e15>\u001b[0m in \u001b[0;36m<module>\u001b[1;34m()\u001b[0m\n\u001b[0;32m      2\u001b[0m \u001b[0mfilename2\u001b[0m \u001b[1;33m=\u001b[0m \u001b[1;34m\"C:/Users/FullerBL/Documents/DataTestProject/testcsv2.csv\"\u001b[0m\u001b[1;33m\u001b[0m\u001b[0m\n\u001b[0;32m      3\u001b[0m \u001b[1;33m\u001b[0m\u001b[0m\n\u001b[1;32m----> 4\u001b[1;33m \u001b[0mdf\u001b[0m \u001b[1;33m=\u001b[0m \u001b[0mpd\u001b[0m\u001b[1;33m.\u001b[0m\u001b[0mread_csv\u001b[0m\u001b[1;33m(\u001b[0m\u001b[0mfilename2\u001b[0m\u001b[1;33m)\u001b[0m\u001b[1;33m\u001b[0m\u001b[0m\n\u001b[0m\u001b[0;32m      5\u001b[0m \u001b[1;33m\u001b[0m\u001b[0m\n\u001b[0;32m      6\u001b[0m \u001b[1;31m# remove rows with null/NaN/NaT values\u001b[0m\u001b[1;33m\u001b[0m\u001b[1;33m\u001b[0m\u001b[0m\n",
      "\u001b[1;32m~\\Anaconda3\\lib\\site-packages\\pandas\\io\\parsers.py\u001b[0m in \u001b[0;36mparser_f\u001b[1;34m(filepath_or_buffer, sep, delimiter, header, names, index_col, usecols, squeeze, prefix, mangle_dupe_cols, dtype, engine, converters, true_values, false_values, skipinitialspace, skiprows, nrows, na_values, keep_default_na, na_filter, verbose, skip_blank_lines, parse_dates, infer_datetime_format, keep_date_col, date_parser, dayfirst, iterator, chunksize, compression, thousands, decimal, lineterminator, quotechar, quoting, escapechar, comment, encoding, dialect, tupleize_cols, error_bad_lines, warn_bad_lines, skipfooter, skip_footer, doublequote, delim_whitespace, as_recarray, compact_ints, use_unsigned, low_memory, buffer_lines, memory_map, float_precision)\u001b[0m\n\u001b[0;32m    703\u001b[0m                     skip_blank_lines=skip_blank_lines)\n\u001b[0;32m    704\u001b[0m \u001b[1;33m\u001b[0m\u001b[0m\n\u001b[1;32m--> 705\u001b[1;33m         \u001b[1;32mreturn\u001b[0m \u001b[0m_read\u001b[0m\u001b[1;33m(\u001b[0m\u001b[0mfilepath_or_buffer\u001b[0m\u001b[1;33m,\u001b[0m \u001b[0mkwds\u001b[0m\u001b[1;33m)\u001b[0m\u001b[1;33m\u001b[0m\u001b[0m\n\u001b[0m\u001b[0;32m    706\u001b[0m \u001b[1;33m\u001b[0m\u001b[0m\n\u001b[0;32m    707\u001b[0m     \u001b[0mparser_f\u001b[0m\u001b[1;33m.\u001b[0m\u001b[0m__name__\u001b[0m \u001b[1;33m=\u001b[0m \u001b[0mname\u001b[0m\u001b[1;33m\u001b[0m\u001b[0m\n",
      "\u001b[1;32m~\\Anaconda3\\lib\\site-packages\\pandas\\io\\parsers.py\u001b[0m in \u001b[0;36m_read\u001b[1;34m(filepath_or_buffer, kwds)\u001b[0m\n\u001b[0;32m    443\u001b[0m \u001b[1;33m\u001b[0m\u001b[0m\n\u001b[0;32m    444\u001b[0m     \u001b[1;31m# Create the parser.\u001b[0m\u001b[1;33m\u001b[0m\u001b[1;33m\u001b[0m\u001b[0m\n\u001b[1;32m--> 445\u001b[1;33m     \u001b[0mparser\u001b[0m \u001b[1;33m=\u001b[0m \u001b[0mTextFileReader\u001b[0m\u001b[1;33m(\u001b[0m\u001b[0mfilepath_or_buffer\u001b[0m\u001b[1;33m,\u001b[0m \u001b[1;33m**\u001b[0m\u001b[0mkwds\u001b[0m\u001b[1;33m)\u001b[0m\u001b[1;33m\u001b[0m\u001b[0m\n\u001b[0m\u001b[0;32m    446\u001b[0m \u001b[1;33m\u001b[0m\u001b[0m\n\u001b[0;32m    447\u001b[0m     \u001b[1;32mif\u001b[0m \u001b[0mchunksize\u001b[0m \u001b[1;32mor\u001b[0m \u001b[0miterator\u001b[0m\u001b[1;33m:\u001b[0m\u001b[1;33m\u001b[0m\u001b[0m\n",
      "\u001b[1;32m~\\Anaconda3\\lib\\site-packages\\pandas\\io\\parsers.py\u001b[0m in \u001b[0;36m__init__\u001b[1;34m(self, f, engine, **kwds)\u001b[0m\n\u001b[0;32m    812\u001b[0m             \u001b[0mself\u001b[0m\u001b[1;33m.\u001b[0m\u001b[0moptions\u001b[0m\u001b[1;33m[\u001b[0m\u001b[1;34m'has_index_names'\u001b[0m\u001b[1;33m]\u001b[0m \u001b[1;33m=\u001b[0m \u001b[0mkwds\u001b[0m\u001b[1;33m[\u001b[0m\u001b[1;34m'has_index_names'\u001b[0m\u001b[1;33m]\u001b[0m\u001b[1;33m\u001b[0m\u001b[0m\n\u001b[0;32m    813\u001b[0m \u001b[1;33m\u001b[0m\u001b[0m\n\u001b[1;32m--> 814\u001b[1;33m         \u001b[0mself\u001b[0m\u001b[1;33m.\u001b[0m\u001b[0m_make_engine\u001b[0m\u001b[1;33m(\u001b[0m\u001b[0mself\u001b[0m\u001b[1;33m.\u001b[0m\u001b[0mengine\u001b[0m\u001b[1;33m)\u001b[0m\u001b[1;33m\u001b[0m\u001b[0m\n\u001b[0m\u001b[0;32m    815\u001b[0m \u001b[1;33m\u001b[0m\u001b[0m\n\u001b[0;32m    816\u001b[0m     \u001b[1;32mdef\u001b[0m \u001b[0mclose\u001b[0m\u001b[1;33m(\u001b[0m\u001b[0mself\u001b[0m\u001b[1;33m)\u001b[0m\u001b[1;33m:\u001b[0m\u001b[1;33m\u001b[0m\u001b[0m\n",
      "\u001b[1;32m~\\Anaconda3\\lib\\site-packages\\pandas\\io\\parsers.py\u001b[0m in \u001b[0;36m_make_engine\u001b[1;34m(self, engine)\u001b[0m\n\u001b[0;32m   1043\u001b[0m     \u001b[1;32mdef\u001b[0m \u001b[0m_make_engine\u001b[0m\u001b[1;33m(\u001b[0m\u001b[0mself\u001b[0m\u001b[1;33m,\u001b[0m \u001b[0mengine\u001b[0m\u001b[1;33m=\u001b[0m\u001b[1;34m'c'\u001b[0m\u001b[1;33m)\u001b[0m\u001b[1;33m:\u001b[0m\u001b[1;33m\u001b[0m\u001b[0m\n\u001b[0;32m   1044\u001b[0m         \u001b[1;32mif\u001b[0m \u001b[0mengine\u001b[0m \u001b[1;33m==\u001b[0m \u001b[1;34m'c'\u001b[0m\u001b[1;33m:\u001b[0m\u001b[1;33m\u001b[0m\u001b[0m\n\u001b[1;32m-> 1045\u001b[1;33m             \u001b[0mself\u001b[0m\u001b[1;33m.\u001b[0m\u001b[0m_engine\u001b[0m \u001b[1;33m=\u001b[0m \u001b[0mCParserWrapper\u001b[0m\u001b[1;33m(\u001b[0m\u001b[0mself\u001b[0m\u001b[1;33m.\u001b[0m\u001b[0mf\u001b[0m\u001b[1;33m,\u001b[0m \u001b[1;33m**\u001b[0m\u001b[0mself\u001b[0m\u001b[1;33m.\u001b[0m\u001b[0moptions\u001b[0m\u001b[1;33m)\u001b[0m\u001b[1;33m\u001b[0m\u001b[0m\n\u001b[0m\u001b[0;32m   1046\u001b[0m         \u001b[1;32melse\u001b[0m\u001b[1;33m:\u001b[0m\u001b[1;33m\u001b[0m\u001b[0m\n\u001b[0;32m   1047\u001b[0m             \u001b[1;32mif\u001b[0m \u001b[0mengine\u001b[0m \u001b[1;33m==\u001b[0m \u001b[1;34m'python'\u001b[0m\u001b[1;33m:\u001b[0m\u001b[1;33m\u001b[0m\u001b[0m\n",
      "\u001b[1;32m~\\Anaconda3\\lib\\site-packages\\pandas\\io\\parsers.py\u001b[0m in \u001b[0;36m__init__\u001b[1;34m(self, src, **kwds)\u001b[0m\n\u001b[0;32m   1682\u001b[0m         \u001b[0mkwds\u001b[0m\u001b[1;33m[\u001b[0m\u001b[1;34m'allow_leading_cols'\u001b[0m\u001b[1;33m]\u001b[0m \u001b[1;33m=\u001b[0m \u001b[0mself\u001b[0m\u001b[1;33m.\u001b[0m\u001b[0mindex_col\u001b[0m \u001b[1;32mis\u001b[0m \u001b[1;32mnot\u001b[0m \u001b[1;32mFalse\u001b[0m\u001b[1;33m\u001b[0m\u001b[0m\n\u001b[0;32m   1683\u001b[0m \u001b[1;33m\u001b[0m\u001b[0m\n\u001b[1;32m-> 1684\u001b[1;33m         \u001b[0mself\u001b[0m\u001b[1;33m.\u001b[0m\u001b[0m_reader\u001b[0m \u001b[1;33m=\u001b[0m \u001b[0mparsers\u001b[0m\u001b[1;33m.\u001b[0m\u001b[0mTextReader\u001b[0m\u001b[1;33m(\u001b[0m\u001b[0msrc\u001b[0m\u001b[1;33m,\u001b[0m \u001b[1;33m**\u001b[0m\u001b[0mkwds\u001b[0m\u001b[1;33m)\u001b[0m\u001b[1;33m\u001b[0m\u001b[0m\n\u001b[0m\u001b[0;32m   1685\u001b[0m \u001b[1;33m\u001b[0m\u001b[0m\n\u001b[0;32m   1686\u001b[0m         \u001b[1;31m# XXX\u001b[0m\u001b[1;33m\u001b[0m\u001b[1;33m\u001b[0m\u001b[0m\n",
      "\u001b[1;32mpandas/_libs/parsers.pyx\u001b[0m in \u001b[0;36mpandas._libs.parsers.TextReader.__cinit__\u001b[1;34m()\u001b[0m\n",
      "\u001b[1;32mpandas/_libs/parsers.pyx\u001b[0m in \u001b[0;36mpandas._libs.parsers.TextReader._setup_parser_source\u001b[1;34m()\u001b[0m\n",
      "\u001b[1;31mFileNotFoundError\u001b[0m: File b'C:/Users/FullerBL/Documents/DataTestProject/testcsv2.csv' does not exist"
     ]
    }
   ],
   "source": [
    "filename1 = \"C:/Users/FullerBL/Documents/DataTestProject/testcsv.csv\"\n",
    "filename2 = \"C:/Users/FullerBL/Documents/DataTestProject/testcsv2.csv\"\n",
    "\n",
    "df = pd.read_csv(filename2)\n",
    "\n",
    "# remove rows with null/NaN/NaT values\n",
    "df = df.dropna(axis=0)\n",
    "\n",
    "df['Time'] = pd.to_datetime('0:0:' + df['Time'] + '0', \n",
    "                            exact = False, errors='ignore', format = \"%H:%M:%S.%f\").apply(lambda x: x.time())\n",
    "df['T1Prime'] = pd.to_datetime('0:0:' + df['T1Prime'] + '0', \n",
    "                               exact=False, errors='ignore', format = \"%H:%M:%S.%f\").apply(lambda x: x.time())\n",
    "df['T2Prime'] = pd.to_datetime('0:0:' + df['T2Prime'] + '0', \n",
    "                               exact=False, errors='ignore', format = \"%H:%M:%S.%f\").apply(lambda x: x.time())\n",
    "df['T3Prime'] = pd.to_datetime('0:0:' + df['T3Prime'] + '0', \n",
    "                               exact=False, errors='ignore', format = \"%H:%M:%S.%f\").apply(lambda x: x.time())\n",
    "\n",
    "df['Time'] = df['Time'].apply(lambda x: ((x.hour*60+x.minute)*60+x.second)*1000000+x.microsecond)/1000000\n",
    "df['T1Prime'] = df['T1Prime'].apply(lambda x: ((x.hour*60+x.minute)*60+x.second)*1000000+x.microsecond)/1000000\n",
    "df['T2Prime'] = df['T2Prime'].apply(lambda x: ((x.hour*60+x.minute)*60+x.second)*1000000+x.microsecond)/1000000\n",
    "df['T3Prime'] = df['T3Prime'].apply(lambda x: ((x.hour*60+x.minute)*60+x.second)*1000000+x.microsecond)/1000000\n",
    "\n",
    "print(df.shape)\n",
    "\n",
    "df"
   ]
  },
  {
   "cell_type": "code",
   "execution_count": 237,
   "metadata": {},
   "outputs": [],
   "source": [
    "df['TTot'] = df['T1Prime'] + df['T2Prime'] + df['T3Prime']"
   ]
  },
  {
   "cell_type": "code",
   "execution_count": 239,
   "metadata": {},
   "outputs": [],
   "source": [
    "df['diffcheck'] = df['Time']-df['TTot']\n"
   ]
  },
  {
   "cell_type": "markdown",
   "metadata": {},
   "source": [
    "### Are my computed times correct?\n",
    "\n",
    "Let's check the diff between t1+t2+t3-t"
   ]
  },
  {
   "cell_type": "code",
   "execution_count": 242,
   "metadata": {},
   "outputs": [
    {
     "name": "stdout",
     "output_type": "stream",
     "text": [
      "max:  9.09494701773e-13\n",
      "min:  -4.54747350886e-13\n"
     ]
    }
   ],
   "source": [
    "print('max: ', np.max(df['diffcheck']))\n",
    "print('min: ', np.min(df['diffcheck']))"
   ]
  },
  {
   "cell_type": "code",
   "execution_count": null,
   "metadata": {},
   "outputs": [],
   "source": []
  },
  {
   "cell_type": "code",
   "execution_count": null,
   "metadata": {
    "collapsed": true
   },
   "outputs": [],
   "source": []
  }
 ],
 "metadata": {
  "kernelspec": {
   "display_name": "Python [default]",
   "language": "python",
   "name": "python3"
  },
  "language_info": {
   "codemirror_mode": {
    "name": "ipython",
    "version": 3
   },
   "file_extension": ".py",
   "mimetype": "text/x-python",
   "name": "python",
   "nbconvert_exporter": "python",
   "pygments_lexer": "ipython3",
   "version": "3.6.3"
  }
 },
 "nbformat": 4,
 "nbformat_minor": 2
}
